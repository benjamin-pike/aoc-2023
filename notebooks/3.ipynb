{
 "cells": [
  {
   "cell_type": "code",
   "execution_count": 1,
   "metadata": {},
   "outputs": [],
   "source": [
    "with open('../inputs/3.txt', 'r') as f:\n",
    "    data = f.read().splitlines()"
   ]
  },
  {
   "cell_type": "code",
   "execution_count": 2,
   "metadata": {},
   "outputs": [],
   "source": [
    "def extract_num(string, i):\n",
    "    j = i\n",
    "    while j < len(string) and string[j].isnumeric():\n",
    "        j += 1\n",
    "        \n",
    "    return string[i:j]"
   ]
  },
  {
   "cell_type": "code",
   "execution_count": 3,
   "metadata": {},
   "outputs": [
    {
     "data": {
      "text/plain": [
       "535078"
      ]
     },
     "execution_count": 3,
     "metadata": {},
     "output_type": "execute_result"
    }
   ],
   "source": [
    "# Part 1\n",
    "def check_adjacent(schematic, row_index, start, end):\n",
    "    for row in range(row_index - 1, row_index + 2):\n",
    "        if row == -1 or row >= len(schematic):\n",
    "            continue\n",
    "\n",
    "        for col in range(start - 1, end + 1):\n",
    "            if col == -1 or col >= len(schematic[row]):\n",
    "                continue\n",
    "\n",
    "            char = schematic[row][col]\n",
    "            \n",
    "            if char != '.' and not char.isnumeric():\n",
    "                return True\n",
    "            \n",
    "    return False\n",
    "\n",
    "def sum_adjacent(schematic):\n",
    "    total = 0\n",
    "\n",
    "    for i, line in enumerate(schematic):\n",
    "        j = 0\n",
    "        \n",
    "        while j < len(line):\n",
    "            char = line[j]\n",
    "            \n",
    "            if not char.isnumeric():\n",
    "                j += 1\n",
    "                continue\n",
    "            \n",
    "            num_str = extract_num(line, j)\n",
    "\n",
    "            if check_adjacent(schematic, i, j, j + len(num_str)):\n",
    "                total += int(num_str)  \n",
    "            \n",
    "            j += len(num_str)\n",
    "            \n",
    "    return total\n",
    "\n",
    "sum_adjacent(data)"
   ]
  },
  {
   "cell_type": "code",
   "execution_count": 4,
   "metadata": {},
   "outputs": [
    {
     "data": {
      "text/plain": [
       "75312571"
      ]
     },
     "execution_count": 4,
     "metadata": {},
     "output_type": "execute_result"
    }
   ],
   "source": [
    "# Part 2\n",
    "def get_adjacent_gears(data, row_index, start, end):\n",
    "    gears = []\n",
    "    \n",
    "    for row in range(row_index - 1, row_index + 2):\n",
    "        if row == -1 or row >= len(data):\n",
    "            continue\n",
    "\n",
    "        for col in range(start - 1, end + 1):\n",
    "            if col == -1 or col >= len(data[row]):\n",
    "                continue\n",
    "\n",
    "            char = data[row][col]\n",
    "            \n",
    "            if char == '*':\n",
    "                gears.append((row, col))\n",
    "            \n",
    "    return gears\n",
    "\n",
    "def sum_ratios(schematic):\n",
    "    total = 0\n",
    "    gears = {}\n",
    "\n",
    "    for i, line in enumerate(schematic):\n",
    "        j = 0\n",
    "        \n",
    "        while j < len(line):\n",
    "            char = line[j]\n",
    "            \n",
    "            if not char.isnumeric():\n",
    "                j += 1\n",
    "                continue\n",
    "            \n",
    "            num_str = extract_num(line, j)\n",
    "\n",
    "            adjacent_gears = get_adjacent_gears(schematic, i, j, j + len(num_str))\n",
    "            \n",
    "            for gear in adjacent_gears:\n",
    "                if not gear in gears:\n",
    "                    gears[gear] = []\n",
    "                    \n",
    "                gears[gear].append(int(num_str))\n",
    "            \n",
    "            j += len(num_str)\n",
    "            \n",
    "    for vals in gears.values():\n",
    "        if len(vals) == 2:\n",
    "            total += vals[0] * vals[1]\n",
    "            \n",
    "    return total\n",
    "\n",
    "sum_ratios(data)"
   ]
  }
 ],
 "metadata": {
  "kernelspec": {
   "display_name": "Python 3",
   "language": "python",
   "name": "python3"
  },
  "language_info": {
   "codemirror_mode": {
    "name": "ipython",
    "version": 3
   },
   "file_extension": ".py",
   "mimetype": "text/x-python",
   "name": "python",
   "nbconvert_exporter": "python",
   "pygments_lexer": "ipython3",
   "version": "3.9.17"
  }
 },
 "nbformat": 4,
 "nbformat_minor": 2
}
