{
 "cells": [
  {
   "cell_type": "code",
   "execution_count": null,
   "metadata": {},
   "outputs": [],
   "source": [
    "with open('../inputs/9.txt', 'r') as f:\n",
    "    data = f.read().splitlines()"
   ]
  },
  {
   "cell_type": "code",
   "execution_count": null,
   "metadata": {},
   "outputs": [],
   "source": [
    "def calc_diffs(nums):\n",
    "    diffs = []\n",
    "    terminate = True\n",
    "    \n",
    "    for i in range(len(nums) - 1):\n",
    "        diff = nums[i + 1] - nums[i]\n",
    "        \n",
    "        diffs.append(diff)\n",
    "        \n",
    "        if diff != 0:\n",
    "            terminate = False\n",
    "            \n",
    "    return (diffs, terminate)"
   ]
  },
  {
   "cell_type": "code",
   "execution_count": null,
   "metadata": {},
   "outputs": [],
   "source": [
    "def build_seqs(initial):\n",
    "    seqs = [[int(num) for num in initial.split()]]\n",
    "    \n",
    "    while True:\n",
    "        diffs, terminate = calc_diffs(seqs[-1])\n",
    "        \n",
    "        seqs.append(diffs)\n",
    "        \n",
    "        if terminate:\n",
    "            return seqs"
   ]
  },
  {
   "cell_type": "code",
   "execution_count": null,
   "metadata": {},
   "outputs": [],
   "source": [
    "def extrapolate_history(seqs, use_left):\n",
    "    for i in reversed(range(len(seqs))):\n",
    "        if i + 1 == len(seqs):\n",
    "            if use_left:\n",
    "                seqs[i].insert(0, 0)\n",
    "            else:\n",
    "                seqs[i].append(0)\n",
    "            continue\n",
    "        \n",
    "        prev_seq = seqs[i+1]\n",
    "        curr_seq = seqs[i]\n",
    "        \n",
    "        if use_left:\n",
    "            curr_seq.insert(0, curr_seq[0] - prev_seq[0])\n",
    "        else:\n",
    "            curr_seq.append(curr_seq[-1] + prev_seq[-1])\n",
    "      \n",
    "    return seqs[0][0] if use_left else seqs[0][-1]"
   ]
  },
  {
   "cell_type": "code",
   "execution_count": null,
   "metadata": {},
   "outputs": [],
   "source": [
    "def solve(lines, use_left = False):\n",
    "    total = 0\n",
    "    \n",
    "    for line in lines:\n",
    "        total += extrapolate_history(build_seqs(line), use_left)\n",
    "        \n",
    "    return total"
   ]
  },
  {
   "cell_type": "code",
   "execution_count": null,
   "metadata": {},
   "outputs": [],
   "source": [
    "# Part 1\n",
    "solve(data)"
   ]
  },
  {
   "cell_type": "code",
   "execution_count": null,
   "metadata": {},
   "outputs": [],
   "source": [
    "# Part 2\n",
    "solve(data, True)"
   ]
  }
 ],
 "metadata": {
  "kernelspec": {
   "display_name": "Python 3",
   "language": "python",
   "name": "python3"
  },
  "language_info": {
   "codemirror_mode": {
    "name": "ipython",
    "version": 3
   },
   "file_extension": ".py",
   "mimetype": "text/x-python",
   "name": "python",
   "nbconvert_exporter": "python",
   "pygments_lexer": "ipython3",
   "version": "3.9.17"
  }
 },
 "nbformat": 4,
 "nbformat_minor": 2
}
