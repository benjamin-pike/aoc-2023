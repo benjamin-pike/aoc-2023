{
 "cells": [
  {
   "cell_type": "code",
   "execution_count": null,
   "metadata": {},
   "outputs": [],
   "source": [
    "with open('../inputs/18.txt') as f:\n",
    "    data = f.read().splitlines()"
   ]
  },
  {
   "cell_type": "code",
   "execution_count": null,
   "metadata": {},
   "outputs": [],
   "source": [
    "DIRECTIONS = {\n",
    "    'L': (-1, 0),\n",
    "    'R': (1, 0),\n",
    "    'U': (0, -1),\n",
    "    'D': (0, 1)\n",
    "}"
   ]
  },
  {
   "cell_type": "code",
   "execution_count": null,
   "metadata": {},
   "outputs": [],
   "source": [
    "def parse(line, swap):\n",
    "    direction, distance, color = line.split()\n",
    "    \n",
    "    if not swap:\n",
    "        return [direction, int(distance)]\n",
    "    \n",
    "    color = color.lstrip('(#').rstrip(')')\n",
    "    hex_distance = color[:5]\n",
    "    int_direction = int(color[5])\n",
    "    \n",
    "    return [['R', 'D', 'L', 'U'][int_direction], int(hex_distance, 16)]\n",
    "    "
   ]
  },
  {
   "cell_type": "code",
   "execution_count": null,
   "metadata": {},
   "outputs": [],
   "source": [
    "def gcd(x, y):\n",
    "    while y != 0:\n",
    "        (x, y) = (y, x % y)\n",
    "    \n",
    "    return abs(x)\n",
    "\n",
    "def shoelace_formula(polygon):\n",
    "    n = len(polygon)\n",
    "    area = 0.0\n",
    "    \n",
    "    for i in range(n):\n",
    "        x1, y1 = polygon[i]\n",
    "        x2, y2 = polygon[(i + 1) % n]\n",
    "        area += x1 * y2 - y1 * x2\n",
    "    \n",
    "    return abs(area) / 2.0\n",
    "\n",
    "def count_boundary_points(polygon):\n",
    "    n = len(polygon)\n",
    "    b = 0\n",
    "\n",
    "    for i in range(n):\n",
    "        x1, y1 = polygon[i]\n",
    "        x2, y2 = polygon[(i + 1) % n]\n",
    "\n",
    "        b += gcd(abs(x2 - x1), abs(y2 - y1))\n",
    "    return b"
   ]
  },
  {
   "cell_type": "code",
   "execution_count": null,
   "metadata": {},
   "outputs": [],
   "source": [
    "def calc_vertices(data, swap = False):\n",
    "    vertices = [(0, 0)]\n",
    "\n",
    "    for instruction in data:\n",
    "        direction, distance = parse(instruction, swap)\n",
    "        x, y = vertices[-1]\n",
    "        \n",
    "        dx, dy = DIRECTIONS[direction]\n",
    "        x += dx * distance\n",
    "        y += dy * distance\n",
    "\n",
    "        vertices.append((x, y))\n",
    "        \n",
    "    return vertices"
   ]
  },
  {
   "cell_type": "code",
   "execution_count": null,
   "metadata": {},
   "outputs": [],
   "source": [
    "def solve(vertices):\n",
    "    area = shoelace_formula(vertices)\n",
    "    boundary_points = count_boundary_points(vertices)\n",
    "    internal_points = area - (boundary_points / 2) + 1\n",
    "    \n",
    "    return int(internal_points) + boundary_points"
   ]
  },
  {
   "cell_type": "code",
   "execution_count": null,
   "metadata": {},
   "outputs": [],
   "source": [
    "# Part 1    \n",
    "solve(calc_vertices(data))"
   ]
  },
  {
   "cell_type": "code",
   "execution_count": null,
   "metadata": {},
   "outputs": [],
   "source": [
    "# Part 2   \n",
    "solve(calc_vertices(data, swap = True))"
   ]
  }
 ],
 "metadata": {
  "kernelspec": {
   "display_name": "Python 3",
   "language": "python",
   "name": "python3"
  },
  "language_info": {
   "codemirror_mode": {
    "name": "ipython",
    "version": 3
   },
   "file_extension": ".py",
   "mimetype": "text/x-python",
   "name": "python",
   "nbconvert_exporter": "python",
   "pygments_lexer": "ipython3",
   "version": "3.9.17"
  }
 },
 "nbformat": 4,
 "nbformat_minor": 2
}
