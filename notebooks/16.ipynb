{
 "cells": [
  {
   "cell_type": "code",
   "execution_count": null,
   "metadata": {},
   "outputs": [],
   "source": [
    "with open('../inputs/16.txt') as f:\n",
    "    data = f.read().splitlines()"
   ]
  },
  {
   "cell_type": "code",
   "execution_count": null,
   "metadata": {},
   "outputs": [],
   "source": [
    "def dfs(location, direction, layout, traced):\n",
    "    y, x = location\n",
    "\n",
    "    if y < 0 or y >= len(data) or x < 0 or x >= len(data[0]):\n",
    "        return\n",
    "\n",
    "    key = (direction, location)\n",
    "    if key in traced:\n",
    "        return\n",
    "    traced.add(key)\n",
    "    \n",
    "    tile = layout[y][x]\n",
    "    if tile == '.':\n",
    "        if direction == 'U' or direction == 'D':\n",
    "            dfs((y - 1 if direction == 'U' else y + 1, x), direction, layout, traced)\n",
    "        else:\n",
    "            dfs((y, x - 1 if direction == 'L' else x + 1), direction, layout, traced)\n",
    "        \n",
    "        return\n",
    "\n",
    "    if tile == '-':\n",
    "        if direction == 'L' or direction == 'R':\n",
    "            dfs((y, x - 1 if direction == 'L' else x + 1), direction, layout, traced)\n",
    "        else:\n",
    "            dfs((y, x - 1), 'L', layout, traced)\n",
    "            dfs((y, x + 1), 'R', layout, traced)\n",
    "            \n",
    "    if tile == '|':\n",
    "        if direction == 'U' or direction == 'D':\n",
    "            dfs((y - 1 if direction == 'U' else y + 1, x), direction, layout, traced)\n",
    "        else:\n",
    "            dfs((y - 1, x), 'U', layout, traced)\n",
    "            dfs((y + 1, x), 'D', layout, traced)\n",
    "            \n",
    "            \n",
    "    if tile == '/':\n",
    "        if direction == 'U':\n",
    "            dfs((y, x + 1), 'R', layout, traced)\n",
    "        \n",
    "        if direction == 'D':\n",
    "            dfs((y, x - 1), 'L', layout, traced)\n",
    "            \n",
    "        if direction == 'L':\n",
    "            dfs((y + 1, x), 'D', layout, traced)\n",
    "            \n",
    "        if direction == 'R':\n",
    "            dfs((y - 1, x), 'U', layout, traced)\n",
    "            \n",
    "    if tile == '\\\\':\n",
    "        if direction == 'U':\n",
    "            dfs((y, x - 1), 'L', layout, traced)\n",
    "        \n",
    "        if direction == 'D':\n",
    "            dfs((y, x + 1), 'R', layout, traced)\n",
    "            \n",
    "        if direction == 'L':\n",
    "            dfs((y - 1, x), 'U', layout, traced)\n",
    "            \n",
    "        if direction == 'R':\n",
    "            dfs((y + 1, x), 'D', layout, traced)"
   ]
  },
  {
   "cell_type": "code",
   "execution_count": null,
   "metadata": {},
   "outputs": [],
   "source": [
    "def solve(start, direction, layout):\n",
    "    traced = set({})\n",
    "    \n",
    "    dfs(start, direction, layout, traced)\n",
    "    \n",
    "    return len(set([location for _, location in traced]))"
   ]
  },
  {
   "cell_type": "code",
   "execution_count": null,
   "metadata": {},
   "outputs": [],
   "source": [
    "# Part 1\n",
    "solve((0, 0), 'R', data)"
   ]
  },
  {
   "cell_type": "code",
   "execution_count": null,
   "metadata": {},
   "outputs": [],
   "source": [
    "# Part 2\n",
    "def solve_max(layout):\n",
    "    highest = 0\n",
    "\n",
    "    n_rows = len(layout)\n",
    "    n_cols = len(layout[0])\n",
    "\n",
    "    for i in range(n_rows):\n",
    "        highest = max(highest, solve((i, 0), 'R', layout), solve((i, n_cols - 1), 'L', layout))\n",
    "\n",
    "    for j in range(n_cols):\n",
    "        highest = max(highest, solve((0, j), 'D', layout), solve((n_rows - 1, j), 'U', layout))\n",
    "\n",
    "    return highest\n",
    "\n",
    "solve_max(data)"
   ]
  }
 ],
 "metadata": {
  "kernelspec": {
   "display_name": "Python 3",
   "language": "python",
   "name": "python3"
  },
  "language_info": {
   "codemirror_mode": {
    "name": "ipython",
    "version": 3
   },
   "file_extension": ".py",
   "mimetype": "text/x-python",
   "name": "python",
   "nbconvert_exporter": "python",
   "pygments_lexer": "ipython3",
   "version": "3.9.17"
  }
 },
 "nbformat": 4,
 "nbformat_minor": 2
}
