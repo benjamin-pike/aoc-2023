{
 "cells": [
  {
   "cell_type": "code",
   "execution_count": null,
   "metadata": {},
   "outputs": [],
   "source": [
    "with open('../inputs/11.txt') as f:\n",
    "    data = f.read().splitlines()"
   ]
  },
  {
   "cell_type": "code",
   "execution_count": null,
   "metadata": {},
   "outputs": [],
   "source": [
    "def find_empty_lines(image):\n",
    "    n = len(image)\n",
    "    m = len(image[0])\n",
    "\n",
    "    pop_rows = set()\n",
    "    pop_cols = set()\n",
    "\n",
    "    for i in range(n):\n",
    "        for j in range(m):\n",
    "            if data[i][j] == '#':\n",
    "                pop_rows.add(i)\n",
    "                pop_cols.add(j)\n",
    "\n",
    "    return (sorted(set(range(n)) - pop_rows), sorted(set(range(m)) - pop_cols))"
   ]
  },
  {
   "cell_type": "code",
   "execution_count": null,
   "metadata": {},
   "outputs": [],
   "source": [
    "def transform_point(image, point, expansion):\n",
    "    empty_rows, empty_cols = find_empty_lines(image)\n",
    "    y1, x1 = point\n",
    "    y2 = y1\n",
    "\n",
    "    for i in range(len(empty_rows)):\n",
    "        if y1 > empty_rows[i]:\n",
    "            y2 = y1 + ((i + 1) * (expansion - 1))\n",
    "    \n",
    "    x2 = x1     \n",
    "    for i in range(len(empty_cols)):\n",
    "        if x1 > empty_cols[i]:\n",
    "            x2 = x1 + ((i + 1) * (expansion - 1))\n",
    "            \n",
    "    return (y2, x2)"
   ]
  },
  {
   "cell_type": "code",
   "execution_count": null,
   "metadata": {},
   "outputs": [],
   "source": [
    "def calc_paths(image, expansion):\n",
    "    n = len(data)\n",
    "    m = len(data[0])\n",
    "    \n",
    "    points = []\n",
    "    total = 0\n",
    "\n",
    "    for i in range(n):\n",
    "        for j in range(m):\n",
    "            if data[i][j] == '#':\n",
    "                points.append(transform_point(image, (i, j), expansion))\n",
    "\n",
    "    for i in range(len(points)):\n",
    "        for j in range(i + 1, len(points)):\n",
    "            y1, x1 = points[i]\n",
    "            y2, x2 = points[j]\n",
    "            \n",
    "            total += abs(x2 - x1) + abs(y2 - y1)\n",
    "            \n",
    "    print(total)"
   ]
  },
  {
   "cell_type": "code",
   "execution_count": null,
   "metadata": {},
   "outputs": [],
   "source": [
    "# Part 1\n",
    "calc_paths(data, 2)"
   ]
  },
  {
   "cell_type": "code",
   "execution_count": null,
   "metadata": {},
   "outputs": [],
   "source": [
    "# Part 2\n",
    "calc_paths(data, 1000000)"
   ]
  }
 ],
 "metadata": {
  "kernelspec": {
   "display_name": "Python 3",
   "language": "python",
   "name": "python3"
  },
  "language_info": {
   "codemirror_mode": {
    "name": "ipython",
    "version": 3
   },
   "file_extension": ".py",
   "mimetype": "text/x-python",
   "name": "python",
   "nbconvert_exporter": "python",
   "pygments_lexer": "ipython3",
   "version": "3.9.17"
  }
 },
 "nbformat": 4,
 "nbformat_minor": 2
}
