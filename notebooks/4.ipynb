{
 "cells": [
  {
   "cell_type": "code",
   "execution_count": null,
   "metadata": {},
   "outputs": [],
   "source": [
    "with open('../inputs/4.txt', 'r') as f:\n",
    "    data = f.read().splitlines()"
   ]
  },
  {
   "cell_type": "code",
   "execution_count": null,
   "metadata": {},
   "outputs": [],
   "source": [
    "def score_card(i, cards, card_totals):\n",
    "    card = cards[i]\n",
    "\n",
    "    _, card_data = card.split(': ')\n",
    "    winning, present = card_data.split(' | ')\n",
    "    win_set = set(winning.split(' '))\n",
    "\n",
    "    count = 0\n",
    "    for num in present.split(' '):\n",
    "        if not len(num):\n",
    "            continue\n",
    "\n",
    "        if num in win_set:\n",
    "            count += 1\n",
    "       \n",
    "    if i == 0 or card_totals[i - 1] != 0:\n",
    "        for j in range(i, i + count):\n",
    "            card_totals[j + 1] += card_totals[i]\n",
    "                \n",
    "    if not count:\n",
    "        return 0\n",
    "    \n",
    "    return 2 ** (count - 1)"
   ]
  },
  {
   "cell_type": "code",
   "execution_count": null,
   "metadata": {},
   "outputs": [],
   "source": [
    "def solve(cards):\n",
    "    card_totals = [1 for _ in range(0, len(data))]\n",
    "\n",
    "    total = 0\n",
    "    for i in range(len(cards)):\n",
    "        total += score_card(i, cards, card_totals)\n",
    "            \n",
    "    return (total, sum(card_totals))"
   ]
  },
  {
   "cell_type": "code",
   "execution_count": null,
   "metadata": {},
   "outputs": [],
   "source": [
    "# (Part 1, Part 2)\n",
    "solve(data)"
   ]
  }
 ],
 "metadata": {
  "kernelspec": {
   "display_name": "Python 3",
   "language": "python",
   "name": "python3"
  },
  "language_info": {
   "codemirror_mode": {
    "name": "ipython",
    "version": 3
   },
   "file_extension": ".py",
   "mimetype": "text/x-python",
   "name": "python",
   "nbconvert_exporter": "python",
   "pygments_lexer": "ipython3",
   "version": "3.9.17"
  }
 },
 "nbformat": 4,
 "nbformat_minor": 2
}
