{
 "cells": [
  {
   "cell_type": "code",
   "execution_count": null,
   "metadata": {},
   "outputs": [],
   "source": [
    "with open('../inputs/5.txt') as f:\n",
    "    data = f.read().splitlines()"
   ]
  },
  {
   "cell_type": "code",
   "execution_count": null,
   "metadata": {},
   "outputs": [],
   "source": [
    "def parse(data):\n",
    "    seeds_data, *map_data = data\n",
    "    seeds = [int(seed) for seed in seeds_data.lstrip('seeds: ').split()]\n",
    "    \n",
    "    maps = []\n",
    "    for line in map_data:\n",
    "        if len(line) == 0:\n",
    "            maps.append([])\n",
    "            continue\n",
    "            \n",
    "        if not line[0].isnumeric():\n",
    "            continue\n",
    "        \n",
    "        dest, src, ran = [int(_) for _ in line.split()]\n",
    "        transform = dest - src\n",
    "        end = src + ran\n",
    "        \n",
    "        maps[-1].append((transform, src, end))\n",
    "        \n",
    "    return (seeds, maps) "
   ]
  },
  {
   "cell_type": "code",
   "execution_count": null,
   "metadata": {},
   "outputs": [],
   "source": [
    "# Part 1\n",
    "def solve_discrete(seeds, maps):\n",
    "    lowest = float('inf')\n",
    "\n",
    "    for seed in seeds:\n",
    "        src = seed\n",
    "        \n",
    "        for m in maps:\n",
    "            for transform, start, end in m:\n",
    "                if src >= start and src < end:\n",
    "                    src = src + transform\n",
    "                    break\n",
    "        \n",
    "        if src < lowest:\n",
    "            lowest = src\n",
    "                \n",
    "    return lowest\n",
    "\n",
    "solve_discrete(*parse(data))"
   ]
  },
  {
   "cell_type": "code",
   "execution_count": null,
   "metadata": {},
   "outputs": [],
   "source": [
    "# Part 2\n",
    "def build_ranges(seeds):\n",
    "    ranges = []\n",
    "\n",
    "    for i in range(0, len(seeds), 2):\n",
    "        ranges.append((seeds[i], seeds[i] + seeds[i + 1]))\n",
    "    \n",
    "    return ranges\n",
    "\n",
    "def refine_ranges(ranges, m):\n",
    "    new_ranges = []\n",
    "\n",
    "    while ranges:\n",
    "        r_start, r_end = ranges.pop()\n",
    "\n",
    "        for transform, m_start, m_end in m:\n",
    "            overlap_start = max(r_start, m_start)\n",
    "            overlap_end = min(r_end, m_end)\n",
    "            \n",
    "            if overlap_start < overlap_end:\n",
    "                new_ranges.append((overlap_start + transform, overlap_end + transform))\n",
    "                \n",
    "                if overlap_start > r_start:\n",
    "                    ranges.append((r_start, overlap_start))\n",
    "                if r_end > overlap_end:\n",
    "                    ranges.append((overlap_end, r_end))\n",
    "                break\n",
    "        else:\n",
    "            new_ranges.append((r_start, r_end))\n",
    "\n",
    "    return new_ranges\n",
    "\n",
    "def solve_ranges(seeds, maps):\n",
    "    ranges = build_ranges(seeds)\n",
    "    \n",
    "    for m in maps:\n",
    "        ranges = refine_ranges(ranges, m)\n",
    "\n",
    "    return min(ranges)[0]\n",
    "\n",
    "solve_ranges(*parse(data))"
   ]
  }
 ],
 "metadata": {
  "kernelspec": {
   "display_name": "Python 3",
   "language": "python",
   "name": "python3"
  },
  "language_info": {
   "codemirror_mode": {
    "name": "ipython",
    "version": 3
   },
   "file_extension": ".py",
   "mimetype": "text/x-python",
   "name": "python",
   "nbconvert_exporter": "python",
   "pygments_lexer": "ipython3",
   "version": "3.9.17"
  }
 },
 "nbformat": 4,
 "nbformat_minor": 2
}
