{
 "cells": [
  {
   "cell_type": "code",
   "execution_count": null,
   "metadata": {},
   "outputs": [],
   "source": [
    "import math"
   ]
  },
  {
   "cell_type": "code",
   "execution_count": null,
   "metadata": {},
   "outputs": [],
   "source": [
    "with open('../inputs/6.txt', 'r') as f:\n",
    "    data = f.read().splitlines()"
   ]
  },
  {
   "cell_type": "code",
   "execution_count": null,
   "metadata": {},
   "outputs": [],
   "source": [
    "def parse(data):\n",
    "    return [[int(_) for _ in metric.split()[1:]] for metric in data]"
   ]
  },
  {
   "cell_type": "code",
   "execution_count": null,
   "metadata": {},
   "outputs": [],
   "source": [
    "def count_strategies(time, distance):\n",
    "    discriminant = time ** 2 - 4 * distance\n",
    "    \n",
    "    time_1 = (time - math.sqrt(discriminant)) / 2\n",
    "    time_2 = (time + math.sqrt(discriminant)) / 2\n",
    "    \n",
    "    return math.floor(time_2) - math.ceil(time_1) + 1"
   ]
  },
  {
   "cell_type": "code",
   "execution_count": null,
   "metadata": {},
   "outputs": [],
   "source": [
    "def merge_params(times, distances):\n",
    "    return (\n",
    "        int(''.join(map(str, times))),\n",
    "        int(''.join(map(str, distances)))\n",
    "    )"
   ]
  },
  {
   "cell_type": "code",
   "execution_count": null,
   "metadata": {},
   "outputs": [],
   "source": [
    "def solve(times, distances, merge = False):\n",
    "    product = 1\n",
    "\n",
    "    if merge:\n",
    "        return count_strategies(*merge_params(times, distances))\n",
    "    \n",
    "    for time, distance in zip(times, distances):\n",
    "        winning_strategies = count_strategies(time, distance)\n",
    "        product *= winning_strategies\n",
    "        \n",
    "    return product"
   ]
  },
  {
   "cell_type": "code",
   "execution_count": null,
   "metadata": {},
   "outputs": [],
   "source": [
    "# Part 1\n",
    "solve(*parse(data))"
   ]
  },
  {
   "cell_type": "code",
   "execution_count": null,
   "metadata": {},
   "outputs": [],
   "source": [
    "# Part 2\n",
    "solve(*parse(data), True)"
   ]
  }
 ],
 "metadata": {
  "kernelspec": {
   "display_name": "Python 3",
   "language": "python",
   "name": "python3"
  },
  "language_info": {
   "codemirror_mode": {
    "name": "ipython",
    "version": 3
   },
   "file_extension": ".py",
   "mimetype": "text/x-python",
   "name": "python",
   "nbconvert_exporter": "python",
   "pygments_lexer": "ipython3",
   "version": "3.9.17"
  }
 },
 "nbformat": 4,
 "nbformat_minor": 2
}
