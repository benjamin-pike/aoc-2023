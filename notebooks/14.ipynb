{
 "cells": [
  {
   "cell_type": "code",
   "execution_count": null,
   "metadata": {},
   "outputs": [],
   "source": [
    "with open('../inputs/14.txt') as f:\n",
    "    data = list(map(list, f.read().splitlines()))"
   ]
  },
  {
   "cell_type": "code",
   "execution_count": null,
   "metadata": {},
   "outputs": [],
   "source": [
    "def roll(platform):\n",
    "    for i in range(1, len(platform)):\n",
    "        for j in range(len(platform[i])):\n",
    "            if platform[i][j] == 'O':\n",
    "                k = i\n",
    "                \n",
    "                while k > 0 and platform[k - 1][j] == '.':\n",
    "                    platform[k][j] = '.'\n",
    "                    platform[k-1][j] = 'O'\n",
    "                    \n",
    "                    k -= 1\n",
    "                    \n",
    "    return platform"
   ]
  },
  {
   "cell_type": "code",
   "execution_count": null,
   "metadata": {},
   "outputs": [],
   "source": [
    "def calc_load(platform):\n",
    "    total = 0\n",
    "\n",
    "    for i, row in enumerate(platform):\n",
    "        total += (len(platform) - i) * row.count('O')\n",
    "        \n",
    "    return total"
   ]
  },
  {
   "cell_type": "code",
   "execution_count": null,
   "metadata": {},
   "outputs": [],
   "source": [
    "# Part 1\n",
    "calc_load(roll([*data]))"
   ]
  },
  {
   "cell_type": "code",
   "execution_count": null,
   "metadata": {},
   "outputs": [],
   "source": [
    "# Part 2\n",
    "def cycle(platform):\n",
    "    for _ in range(4):\n",
    "        platform = [row[::-1] for row in list(list(_) for _ in zip(*roll(platform)))]\n",
    "    return platform\n",
    "\n",
    "def tuplify(platform):\n",
    "    return tuple(tuple(_) for _ in platform)\n",
    "\n",
    "def cycle_n(platform, n):\n",
    "    seen_set = {tuplify(platform)}\n",
    "    seen_list = [tuplify(platform)]\n",
    "    i = 0\n",
    "\n",
    "    while True:\n",
    "        platform = cycle(platform)\n",
    "        \n",
    "        if tuplify(platform) in seen_set:\n",
    "            break\n",
    "        \n",
    "        seen_set.add(tuplify(platform))\n",
    "        seen_list.append(tuplify(platform))\n",
    "        \n",
    "        i += 1\n",
    "        \n",
    "    rep_index = seen_list.index(tuplify(platform))\n",
    "    \n",
    "    return seen_list[(n - rep_index) % (i + 1 - rep_index) + rep_index]\n",
    "\n",
    "calc_load(cycle_n([*data], 1000000000))"
   ]
  }
 ],
 "metadata": {
  "kernelspec": {
   "display_name": "Python 3",
   "language": "python",
   "name": "python3"
  },
  "language_info": {
   "codemirror_mode": {
    "name": "ipython",
    "version": 3
   },
   "file_extension": ".py",
   "mimetype": "text/x-python",
   "name": "python",
   "nbconvert_exporter": "python",
   "pygments_lexer": "ipython3",
   "version": "3.9.17"
  }
 },
 "nbformat": 4,
 "nbformat_minor": 2
}
