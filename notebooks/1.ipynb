{
 "cells": [
  {
   "cell_type": "code",
   "execution_count": null,
   "metadata": {},
   "outputs": [],
   "source": [
    "with open('../inputs/1.txt') as f:\n",
    "    data = f.read().splitlines()"
   ]
  },
  {
   "cell_type": "code",
   "execution_count": null,
   "metadata": {},
   "outputs": [],
   "source": [
    "STR_TO_NUM = {\n",
    "    'one': 1,\n",
    "    'two': 2,\n",
    "    'three': 3,\n",
    "    'four': 4,\n",
    "    'five': 5,\n",
    "    'six': 6,\n",
    "    'seven': 7,\n",
    "    'eight': 8,\n",
    "    'nine': 9,\n",
    "    'zero': 0\n",
    "}"
   ]
  },
  {
   "cell_type": "code",
   "execution_count": null,
   "metadata": {},
   "outputs": [],
   "source": [
    "def get_number(s, index, use_word_form):\n",
    "    if s[index].isnumeric():\n",
    "        return int(s[index])\n",
    "    \n",
    "    if use_word_form:\n",
    "        for key in STR_TO_NUM.keys():\n",
    "            if key in s[index:index + len(key)]:\n",
    "                return STR_TO_NUM[key]\n",
    "    \n",
    "    return None"
   ]
  },
  {
   "cell_type": "code",
   "execution_count": null,
   "metadata": {},
   "outputs": [],
   "source": [
    "def extact_num(line, use_word_form):\n",
    "    l = 0\n",
    "    r = len(line) - 1\n",
    "    \n",
    "    while True:\n",
    "        lval = get_number(line, l, use_word_form)\n",
    "        rval = get_number(line, r, use_word_form)\n",
    "        \n",
    "        if lval is not None and rval is not None:\n",
    "            return lval * 10 + rval\n",
    "        \n",
    "        if lval is None:\n",
    "            l += 1\n",
    "            \n",
    "        if rval is None:\n",
    "            r -= 1"
   ]
  },
  {
   "cell_type": "code",
   "execution_count": null,
   "metadata": {},
   "outputs": [],
   "source": [
    "def solve(lines, use_word_form = False):\n",
    "    return sum([extact_num(line, use_word_form) for line in lines])"
   ]
  },
  {
   "cell_type": "code",
   "execution_count": null,
   "metadata": {},
   "outputs": [],
   "source": [
    "# Part 1\n",
    "solve(data)"
   ]
  },
  {
   "cell_type": "code",
   "execution_count": null,
   "metadata": {},
   "outputs": [],
   "source": [
    "# Part 2\n",
    "solve(data, True)"
   ]
  }
 ],
 "metadata": {
  "kernelspec": {
   "display_name": "Python 3",
   "language": "python",
   "name": "python3"
  },
  "language_info": {
   "codemirror_mode": {
    "name": "ipython",
    "version": 3
   },
   "file_extension": ".py",
   "mimetype": "text/x-python",
   "name": "python",
   "nbconvert_exporter": "python",
   "pygments_lexer": "ipython3",
   "version": "3.9.17"
  }
 },
 "nbformat": 4,
 "nbformat_minor": 2
}
