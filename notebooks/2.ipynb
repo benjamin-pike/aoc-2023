{
 "cells": [
  {
   "cell_type": "code",
   "execution_count": 1,
   "metadata": {},
   "outputs": [],
   "source": [
    "with open('../inputs/2.txt', 'r') as f:\n",
    "    data = f.read().splitlines()"
   ]
  },
  {
   "cell_type": "code",
   "execution_count": 2,
   "metadata": {},
   "outputs": [],
   "source": [
    "def check_game(game):\n",
    "    game_num_str, game_data = game.lstrip('Game ').split(': ')\n",
    "    \n",
    "    is_valid = True\n",
    "    colors = {'red': 0, 'green': 0, 'blue': 0}\n",
    "    max_values = {'red': 12, 'green': 13, 'blue': 14}\n",
    "    \n",
    "    for game_set in game_data.split('; '):\n",
    "        for cubes in game_set.split(', '):\n",
    "            count_str, color = cubes.split(' ')\n",
    "            count = int(count_str)\n",
    "            \n",
    "            if color in colors:\n",
    "                if count > max_values[color]:\n",
    "                    is_valid = False\n",
    "                if count > colors[color]:\n",
    "                    colors[color] = count\n",
    "\n",
    "    return (\n",
    "        int(game_num_str) if is_valid else 0, \n",
    "        colors['red'] * colors['green'] * colors['blue']\n",
    "    )"
   ]
  },
  {
   "cell_type": "code",
   "execution_count": 3,
   "metadata": {},
   "outputs": [],
   "source": [
    "def solve(games):\n",
    "    valid_total = 0\n",
    "    fewest_total = 0\n",
    "\n",
    "    for game in games:\n",
    "        valid, fewest = check_game(game)\n",
    "        \n",
    "        valid_total += valid\n",
    "        fewest_total += fewest\n",
    "        \n",
    "    return (valid_total, fewest_total)"
   ]
  },
  {
   "cell_type": "code",
   "execution_count": 5,
   "metadata": {},
   "outputs": [
    {
     "data": {
      "text/plain": [
       "(2879, 65122)"
      ]
     },
     "execution_count": 5,
     "metadata": {},
     "output_type": "execute_result"
    }
   ],
   "source": [
    "# (Part 1, Part 2)\n",
    "solve(data)"
   ]
  }
 ],
 "metadata": {
  "kernelspec": {
   "display_name": "Python 3",
   "language": "python",
   "name": "python3"
  },
  "language_info": {
   "codemirror_mode": {
    "name": "ipython",
    "version": 3
   },
   "file_extension": ".py",
   "mimetype": "text/x-python",
   "name": "python",
   "nbconvert_exporter": "python",
   "pygments_lexer": "ipython3",
   "version": "3.9.17"
  }
 },
 "nbformat": 4,
 "nbformat_minor": 2
}
