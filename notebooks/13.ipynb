{
 "cells": [
  {
   "cell_type": "code",
   "execution_count": null,
   "metadata": {},
   "outputs": [],
   "source": [
    "with open('../inputs/13.txt') as f:\n",
    "    data = f.read().splitlines()"
   ]
  },
  {
   "cell_type": "code",
   "execution_count": null,
   "metadata": {},
   "outputs": [],
   "source": [
    "def parse(data):\n",
    "    puzzles = [[]]\n",
    "    \n",
    "    for line in data:\n",
    "        if line == '':\n",
    "            puzzles.append([])\n",
    "            continue\n",
    "        \n",
    "        puzzles[-1].append(line)\n",
    "        \n",
    "    return puzzles"
   ]
  },
  {
   "cell_type": "code",
   "execution_count": null,
   "metadata": {},
   "outputs": [],
   "source": [
    "def is_reflection(slice):\n",
    "    if slice[0] != slice[-1]:\n",
    "        return False\n",
    "    \n",
    "    if len(slice) == 2:\n",
    "        return True\n",
    "    \n",
    "    return is_reflection(slice[1:len(slice) - 1])"
   ]
  },
  {
   "cell_type": "code",
   "execution_count": null,
   "metadata": {},
   "outputs": [],
   "source": [
    "def find_reflection_value(puzzle, avoid_val = None):    \n",
    "    for i in range(1, len(puzzle)):\n",
    "        pad = min(i, len(puzzle) - i)\n",
    "        slice = puzzle[i - pad:i + pad]\n",
    "        \n",
    "        if is_reflection(slice):\n",
    "            val = 100 * i\n",
    "            \n",
    "            if val != avoid_val:\n",
    "                return val\n",
    "        \n",
    "    puzzle = [''.join(_) for _ in zip(*puzzle)]\n",
    "    \n",
    "    for i in range(1, len(puzzle)):\n",
    "        pad = min(i, len(puzzle) - i)\n",
    "        slice = puzzle[i - pad:i + pad]\n",
    "        \n",
    "        if is_reflection(slice):\n",
    "            if i != avoid_val:\n",
    "                return i\n",
    "        \n",
    "    return 0"
   ]
  },
  {
   "cell_type": "code",
   "execution_count": null,
   "metadata": {},
   "outputs": [],
   "source": [
    "def find_smudged_reflection_value(puzzle):\n",
    "    n, m = len(puzzle), len(puzzle[0])\n",
    "    original_val = find_reflection_value(puzzle)\n",
    "\n",
    "    for i in range(n):\n",
    "        for j in range(m):\n",
    "            copy = [*puzzle]\n",
    "            \n",
    "            row = list(copy[i])\n",
    "            row[j] = \".\" if row[j] == \"#\" else \"#\"\n",
    "            copy[i] = ''.join(row)\n",
    "            \n",
    "            value = find_reflection_value(copy, original_val)\n",
    "            \n",
    "            if value:\n",
    "                return value"
   ]
  },
  {
   "cell_type": "code",
   "execution_count": null,
   "metadata": {},
   "outputs": [],
   "source": [
    "def solve(puzzles):\n",
    "    total_unsmudged = 0\n",
    "    total_smudged = 0\n",
    "    \n",
    "    for puzzle in puzzles:\n",
    "        total_unsmudged += find_reflection_value(puzzle)\n",
    "        total_smudged += find_smudged_reflection_value(puzzle)\n",
    "        \n",
    "    return (total_unsmudged, total_smudged)"
   ]
  },
  {
   "cell_type": "code",
   "execution_count": null,
   "metadata": {},
   "outputs": [],
   "source": [
    "# (Part 1, Part 2)\n",
    "solve(parse(data))"
   ]
  }
 ],
 "metadata": {
  "kernelspec": {
   "display_name": "Python 3",
   "language": "python",
   "name": "python3"
  },
  "language_info": {
   "codemirror_mode": {
    "name": "ipython",
    "version": 3
   },
   "file_extension": ".py",
   "mimetype": "text/x-python",
   "name": "python",
   "nbconvert_exporter": "python",
   "pygments_lexer": "ipython3",
   "version": "3.9.17"
  }
 },
 "nbformat": 4,
 "nbformat_minor": 2
}
