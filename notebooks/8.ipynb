{
 "cells": [
  {
   "cell_type": "code",
   "execution_count": null,
   "metadata": {},
   "outputs": [],
   "source": [
    "from math import lcm"
   ]
  },
  {
   "cell_type": "code",
   "execution_count": null,
   "metadata": {},
   "outputs": [],
   "source": [
    "with open('../inputs/8.txt', 'r') as f:\n",
    "    directions, _, *nodes = f.read().splitlines()"
   ]
  },
  {
   "cell_type": "code",
   "execution_count": null,
   "metadata": {},
   "outputs": [],
   "source": [
    "def build_tree(nodes):\n",
    "    tree = {}\n",
    "\n",
    "    for text in nodes:\n",
    "        key, l, r = ''.join(filter(lambda c: c.isalpha() or c.isspace(), text)).split()\n",
    "        tree[key] = (l, r)\n",
    "        \n",
    "    return tree"
   ]
  },
  {
   "cell_type": "code",
   "execution_count": null,
   "metadata": {},
   "outputs": [],
   "source": [
    "# Part 1\n",
    "def traverse(directions, tree):\n",
    "    current_node = 'AAA'\n",
    "    step = 0\n",
    "\n",
    "    while True:\n",
    "        direction = directions[step % len(directions)]\n",
    "        current_node = tree[current_node][0 if direction == 'L' else 1]\n",
    "        \n",
    "        step += 1\n",
    "\n",
    "        if current_node == 'ZZZ':\n",
    "            return step\n",
    "\n",
    "traverse(directions, build_tree(nodes))"
   ]
  },
  {
   "cell_type": "code",
   "execution_count": null,
   "metadata": {},
   "outputs": [],
   "source": [
    "# Part 2\n",
    "def bfs(node, directions, tree):\n",
    "    step = 0\n",
    "    current_nodes = [node]\n",
    "    should_loop = True\n",
    "    \n",
    "    while should_loop:\n",
    "        direction = directions[step % len(directions)]\n",
    "        \n",
    "        step += 1\n",
    "        \n",
    "        for i, node in enumerate(current_nodes):\n",
    "            next_node = tree[node][0 if direction == 'L' else 1]\n",
    "\n",
    "            if next_node[2] == 'Z':\n",
    "                return step\n",
    "\n",
    "            current_nodes[i] = next_node\n",
    "            \n",
    "def calc_z_coincidence(directions, tree):\n",
    "    intervals = []\n",
    "\n",
    "    for node in list(tree.keys()):\n",
    "        if node[2] == 'A':\n",
    "            intervals.append(bfs(node, directions, tree))\n",
    "\n",
    "    return lcm(*intervals)\n",
    "\n",
    "calc_z_coincidence(directions, build_tree(nodes))"
   ]
  }
 ],
 "metadata": {
  "kernelspec": {
   "display_name": "Python 3",
   "language": "python",
   "name": "python3"
  },
  "language_info": {
   "codemirror_mode": {
    "name": "ipython",
    "version": 3
   },
   "file_extension": ".py",
   "mimetype": "text/x-python",
   "name": "python",
   "nbconvert_exporter": "python",
   "pygments_lexer": "ipython3",
   "version": "3.9.17"
  }
 },
 "nbformat": 4,
 "nbformat_minor": 2
}
