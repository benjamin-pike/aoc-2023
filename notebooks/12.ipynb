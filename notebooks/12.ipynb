{
 "cells": [
  {
   "cell_type": "code",
   "execution_count": null,
   "metadata": {},
   "outputs": [],
   "source": [
    "with open('../inputs/12.txt') as f:\n",
    "    data = f.read().splitlines()"
   ]
  },
  {
   "cell_type": "code",
   "execution_count": null,
   "metadata": {},
   "outputs": [],
   "source": [
    "def parse(data, unfold = False):\n",
    "    lines = []\n",
    "    \n",
    "    for line in data:\n",
    "        springs, nums_str = line.split()\n",
    "        nums = [int(n) for n in nums_str.split(',')]\n",
    "        \n",
    "        if unfold:\n",
    "            unfolded_padded = '.' + '?'.join([springs] * 5) + '.'\n",
    "            lines.append([unfolded_padded, nums * 5])\n",
    "        else:\n",
    "            padded_springs = '.' + springs + '.'\n",
    "            lines.append([padded_springs, nums])\n",
    "        \n",
    "    return lines\n",
    "    "
   ]
  },
  {
   "cell_type": "code",
   "execution_count": null,
   "metadata": {},
   "outputs": [],
   "source": [
    "def is_valid(seq, start, end):\n",
    "    if start - 1 < 0 or end + 1 >= len(seq):\n",
    "        return False\n",
    "\n",
    "    if seq[start - 1] == '#' or seq[end + 1] == '#':\n",
    "        return False\n",
    "    \n",
    "    if '.' in seq[start:end + 1]:\n",
    "        return False\n",
    "    \n",
    "    if '#' in seq[:start]:\n",
    "        return False\n",
    "    \n",
    "    return True"
   ]
  },
  {
   "cell_type": "code",
   "execution_count": null,
   "metadata": {},
   "outputs": [],
   "source": [
    "def dfs(seq, groups, memo):\n",
    "    if not groups:\n",
    "        return 1 if '#' not in seq else 0\n",
    "    \n",
    "    key = (seq, tuple(groups))\n",
    "    if key in memo:\n",
    "        return memo[key]\n",
    "    \n",
    "    curr_group, *groups = groups\n",
    "    \n",
    "    count = 0\n",
    "    for i in range(len(seq)):\n",
    "        j = i - (curr_group - 1)\n",
    "        \n",
    "        if is_valid(seq, j, i):\n",
    "            count += dfs(seq[i + 1:], groups, memo)\n",
    "            \n",
    "    memo[key] = count\n",
    "            \n",
    "    return count"
   ]
  },
  {
   "cell_type": "code",
   "execution_count": null,
   "metadata": {},
   "outputs": [],
   "source": [
    "def calculate(lines):\n",
    "    total = 0\n",
    "\n",
    "    for springs, groups in lines:\n",
    "        memo = {}\n",
    "        total += dfs(springs, groups, memo)\n",
    "        \n",
    "    return total"
   ]
  },
  {
   "cell_type": "code",
   "execution_count": null,
   "metadata": {},
   "outputs": [],
   "source": [
    "# Part 1\n",
    "calculate(parse(data))"
   ]
  },
  {
   "cell_type": "code",
   "execution_count": null,
   "metadata": {},
   "outputs": [],
   "source": [
    "# Part 2\n",
    "calculate(parse(data, True))"
   ]
  }
 ],
 "metadata": {
  "kernelspec": {
   "display_name": "Python 3",
   "language": "python",
   "name": "python3"
  },
  "language_info": {
   "codemirror_mode": {
    "name": "ipython",
    "version": 3
   },
   "file_extension": ".py",
   "mimetype": "text/x-python",
   "name": "python",
   "nbconvert_exporter": "python",
   "pygments_lexer": "ipython3",
   "version": "3.9.17"
  }
 },
 "nbformat": 4,
 "nbformat_minor": 2
}
