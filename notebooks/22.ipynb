{
 "cells": [
  {
   "cell_type": "code",
   "execution_count": null,
   "metadata": {},
   "outputs": [],
   "source": [
    "with open('../inputs/22.txt') as f:\n",
    "    data = f.read().splitlines()"
   ]
  },
  {
   "cell_type": "code",
   "execution_count": null,
   "metadata": {},
   "outputs": [],
   "source": [
    "def parse(lines):\n",
    "    parsed = []\n",
    "    \n",
    "    for line in lines:\n",
    "        start, end = line.split('~')\n",
    "        parsed.append(\n",
    "            [\n",
    "                list(map(int, start.split(','))),\n",
    "                list(map(int, end.split(',')))\n",
    "            ]\n",
    "        )\n",
    "        \n",
    "    return list(sorted(parsed, key = lambda k: k[0][2]))"
   ]
  },
  {
   "cell_type": "code",
   "execution_count": null,
   "metadata": {},
   "outputs": [],
   "source": [
    "def does_intersect(b1, b2):\n",
    "    return max(b1[0][0], b2[0][0]) <= min(b1[1][0], b2[1][0]) and max(b1[0][1], b2[0][1]) <= min(b1[1][1], b2[1][1])"
   ]
  },
  {
   "cell_type": "code",
   "execution_count": null,
   "metadata": {},
   "outputs": [],
   "source": [
    "def does_rest_on(upper, lower):\n",
    "    return does_intersect(upper, lower) and upper[0][2] == lower[1][2] + 1"
   ]
  },
  {
   "cell_type": "code",
   "execution_count": null,
   "metadata": {},
   "outputs": [],
   "source": [
    "def simulate_fall(stack):\n",
    "    for i, brick in enumerate(stack):\n",
    "        floor = 1\n",
    "        for candidate in stack[:i]:\n",
    "            if does_intersect(brick, candidate):\n",
    "                floor = max(floor, candidate[1][2] + 1)\n",
    "                \n",
    "        brick[1][2] = (brick[1][2] - brick[0][2]) + floor\n",
    "        brick[0][2] = floor\n",
    "        \n",
    "    return stack"
   ]
  },
  {
   "cell_type": "code",
   "execution_count": null,
   "metadata": {},
   "outputs": [],
   "source": [
    "def count(snapshot):\n",
    "    stack = simulate_fall(snapshot)\n",
    "    \n",
    "    supports = {i: set() for i in range(len(stack))}\n",
    "    supported_by = {i: set() for i in range(len(stack))}\n",
    "\n",
    "    for ui, upper in enumerate(stack):\n",
    "        for li, lower in enumerate(stack[:ui]):\n",
    "            if does_rest_on(upper, lower):\n",
    "                supports[li].add(ui)\n",
    "                supported_by[ui].add(li)\n",
    "\n",
    "    disintegratable = set()\n",
    "    for i in range(len(stack)):\n",
    "        if all(len(supported_by[j]) > 1 for j in supports[i]):\n",
    "            disintegratable.add(i)  \n",
    "                \n",
    "    fall_count = 0\n",
    "    for li in range(len(stack)):\n",
    "        q = [ui for ui in supports[li] if len(supported_by[ui]) == 1]\n",
    "        falling = set(q)\n",
    "        \n",
    "        while q:\n",
    "            for uj in supports[q.pop(0)] - falling:\n",
    "                if supported_by[uj] <= falling:\n",
    "                    falling.add(uj)\n",
    "                    q.append(uj)\n",
    "        \n",
    "        fall_count += len(falling)   \n",
    "\n",
    "    return [len(disintegratable), fall_count]"
   ]
  },
  {
   "cell_type": "code",
   "execution_count": null,
   "metadata": {},
   "outputs": [],
   "source": [
    "# [Part 1, Part 2]\n",
    "count(parse(data))"
   ]
  }
 ],
 "metadata": {
  "kernelspec": {
   "display_name": "Python 3",
   "language": "python",
   "name": "python3"
  },
  "language_info": {
   "codemirror_mode": {
    "name": "ipython",
    "version": 3
   },
   "file_extension": ".py",
   "mimetype": "text/x-python",
   "name": "python",
   "nbconvert_exporter": "python",
   "pygments_lexer": "ipython3",
   "version": "3.9.17"
  }
 },
 "nbformat": 4,
 "nbformat_minor": 2
}
