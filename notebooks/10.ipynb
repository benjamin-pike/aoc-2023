{
 "cells": [
  {
   "cell_type": "code",
   "execution_count": null,
   "metadata": {},
   "outputs": [],
   "source": [
    "with open('../inputs/10.txt') as f:\n",
    "    data = f.read().splitlines()"
   ]
  },
  {
   "cell_type": "code",
   "execution_count": null,
   "metadata": {},
   "outputs": [],
   "source": [
    "DIRECTIONS = {\n",
    "    (1, 0): 'D',\n",
    "    (-1, 0): 'U',\n",
    "    (0, 1): 'R',\n",
    "    (0, -1): 'L'\n",
    "}\n",
    "\n",
    "VALID_CONNECTIONS = {\n",
    "    'U': ({'S', '|', 'L', 'J'}, {'S', '|', 'F', '7'}),\n",
    "    'D': ({'S', '|', 'F', '7'}, {'S', '|', 'L', 'J'}),\n",
    "    'L': ({'S', '-', 'J', '7'}, {'S', '-', 'L', 'F'}),\n",
    "    'R': ({'S', '-', 'F', 'L'}, {'S', '-', 'J', '7'})\n",
    "}"
   ]
  },
  {
   "cell_type": "code",
   "execution_count": null,
   "metadata": {},
   "outputs": [],
   "source": [
    "def does_connect(maze, c1, c2):\n",
    "    t1 = maze[c1[0]][c1[1]]\n",
    "    t2 = maze[c2[0]][c2[1]]\n",
    "    \n",
    "    direction = DIRECTIONS[(c2[0] - c1[0], c2[1] - c1[1])]\n",
    "    valid_src, valid_dest = VALID_CONNECTIONS[direction]\n",
    "\n",
    "    return t1 in valid_src and t2 in valid_dest"
   ]
  },
  {
   "cell_type": "code",
   "execution_count": null,
   "metadata": {},
   "outputs": [],
   "source": [
    "def trace_loop(maze):\n",
    "    start = [(i, j) for i in range(len(maze)) for j in range(len(maze[i])) if maze[i][j] == 'S'][0]\n",
    "    visited = set([start])\n",
    "    loop = []\n",
    "    \n",
    "    current = start            \n",
    "    while current:\n",
    "        for d in DIRECTIONS.keys():\n",
    "            candidate = (current[0] + d[0], current[1] + d[1])\n",
    "            \n",
    "            if not (0 <= candidate[0] < len(maze) and 0 <= candidate[1] < len(maze[0])):\n",
    "                continue\n",
    "            \n",
    "            if candidate in visited and not (len(visited) > 2 and candidate == start):\n",
    "                continue\n",
    "            \n",
    "            if does_connect(maze, current, candidate):\n",
    "                visited.add(candidate)\n",
    "                loop.append(candidate)\n",
    "                current = candidate\n",
    "                break\n",
    "        else:\n",
    "            current = None\n",
    "            \n",
    "    return loop"
   ]
  },
  {
   "cell_type": "code",
   "execution_count": null,
   "metadata": {},
   "outputs": [],
   "source": [
    "# Part 1\n",
    "def calc_farthest_step(maze):\n",
    "    return len(trace_loop(maze)) // 2\n",
    "\n",
    "calc_farthest_step(data)"
   ]
  },
  {
   "cell_type": "code",
   "execution_count": null,
   "metadata": {},
   "outputs": [],
   "source": [
    "# Part 2\n",
    "def calc_area(polygon):\n",
    "    n = len(polygon)\n",
    "    area = 0.0\n",
    "    \n",
    "    for i in range(n):\n",
    "        x1, y1 = polygon[i]\n",
    "        x2, y2 = polygon[(i + 1) % n]\n",
    "        area += x1 * y2 - y1 * x2\n",
    "    \n",
    "    return abs(area) / 2.0\n",
    "\n",
    "def greatest_common_divisor(x, y):\n",
    "    while y != 0:\n",
    "        (x, y) = (y, x % y)\n",
    "    \n",
    "    return abs(x)\n",
    "\n",
    "def count_boundary_points(polygon):\n",
    "    n = len(polygon)\n",
    "    b = 0\n",
    "\n",
    "    for i in range(n):\n",
    "        x1, y1 = polygon[i]\n",
    "        x2, y2 = polygon[(i + 1) % n]\n",
    "\n",
    "        b += greatest_common_divisor(abs(x2 - x1), abs(y2 - y1))\n",
    "    return b\n",
    "\n",
    "def calc_points_in_loop(polygon):\n",
    "    area = calc_area(polygon)\n",
    "    boundary_points = count_boundary_points(polygon)\n",
    "    \n",
    "    internal_points = area - (boundary_points / 2) + 1\n",
    "    \n",
    "    return int(internal_points)\n",
    "\n",
    "calc_points_in_loop(trace_loop(data))"
   ]
  }
 ],
 "metadata": {
  "kernelspec": {
   "display_name": "Python 3",
   "language": "python",
   "name": "python3"
  },
  "language_info": {
   "codemirror_mode": {
    "name": "ipython",
    "version": 3
   },
   "file_extension": ".py",
   "mimetype": "text/x-python",
   "name": "python",
   "nbconvert_exporter": "python",
   "pygments_lexer": "ipython3",
   "version": "3.9.17"
  }
 },
 "nbformat": 4,
 "nbformat_minor": 2
}
