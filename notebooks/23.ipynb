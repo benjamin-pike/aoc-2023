{
 "cells": [
  {
   "cell_type": "code",
   "execution_count": null,
   "metadata": {},
   "outputs": [],
   "source": [
    "from collections import deque"
   ]
  },
  {
   "cell_type": "code",
   "execution_count": null,
   "metadata": {},
   "outputs": [],
   "source": [
    "with open('../inputs/23.txt') as f:\n",
    "    data = f.read().splitlines()"
   ]
  },
  {
   "cell_type": "code",
   "execution_count": null,
   "metadata": {},
   "outputs": [],
   "source": [
    "def get_neighbours(loc, prev_dir, forest, use_slopes):\n",
    "    r, c = loc\n",
    "    neighbours = []\n",
    "    slopes = 'v<^>'\n",
    "    \n",
    "    for i, (dr, dc) in enumerate([(1, 0), (0, -1), (-1, 0), (0, 1)]):\n",
    "        if (dr * -1, dc * -1) == prev_dir:\n",
    "            continue\n",
    "        \n",
    "        if use_slopes and forest[r][c] in slopes and slopes[i] != forest[r][c]:\n",
    "            continue\n",
    "\n",
    "        nr, nc = (r + dr, c + dc)\n",
    "        \n",
    "        if not (0 <= nr < len(forest)) or not (0 <= nc < len(forest[0])):\n",
    "            continue\n",
    "        \n",
    "        if forest[nr][nc] == '#':\n",
    "            continue\n",
    "        \n",
    "        neighbours.append(((nr, nc), (dr, dc)))\n",
    "        \n",
    "    return neighbours"
   ]
  },
  {
   "cell_type": "code",
   "execution_count": null,
   "metadata": {},
   "outputs": [],
   "source": [
    "def build_graph(start, end, forest, use_slopes):\n",
    "    queue = deque([(start, start, 0, None)])\n",
    "    graph = {}\n",
    "    visited = set()\n",
    "\n",
    "    while queue:\n",
    "        loc, prev_node, steps, prev_dir = queue.popleft()\n",
    "        \n",
    "        if loc == end:\n",
    "            if prev_node not in graph:\n",
    "                graph[prev_node] = {}\n",
    "            graph[prev_node][loc] = steps\n",
    "            continue\n",
    "        \n",
    "        if (loc, prev_node) in visited:\n",
    "            continue\n",
    "        visited.add((loc, prev_node))\n",
    "\n",
    "        neighbours = get_neighbours(loc, prev_dir, forest, use_slopes)\n",
    "        is_junction = len(neighbours) > 1\n",
    "        \n",
    "        if is_junction or loc == end:\n",
    "            if prev_node not in graph:\n",
    "                graph[prev_node] = {}\n",
    "            graph[prev_node][loc] = steps\n",
    "            \n",
    "            for neighbour, direction in neighbours:\n",
    "                queue.append((neighbour, loc, 1, direction))\n",
    "        else:\n",
    "            if neighbours:\n",
    "                neighbour, direction = neighbours[0]\n",
    "                queue.append((neighbour, prev_node, steps + 1, direction))\n",
    "    \n",
    "    if use_slopes:     \n",
    "        for node in graph.keys():\n",
    "            for k, v in graph.items():\n",
    "                for distance, n in v:\n",
    "                    if n == node:\n",
    "                        graph[node].add((distance, k))\n",
    "    \n",
    "    return graph"
   ]
  },
  {
   "cell_type": "code",
   "execution_count": null,
   "metadata": {},
   "outputs": [],
   "source": [
    "def dfs(graph, current, visited=None):\n",
    "    if visited is None:\n",
    "        visited = set()\n",
    "\n",
    "    visited.add(current)\n",
    "\n",
    "    max_length = 0\n",
    "    if current in graph:\n",
    "        for neighbor in graph[current]:\n",
    "            weight = graph[current][neighbor]\n",
    "            if neighbor not in visited:\n",
    "                current_length = weight + dfs(graph, neighbor, visited.copy())\n",
    "                max_length = max(max_length, current_length)\n",
    "\n",
    "    return max_length"
   ]
  },
  {
   "cell_type": "code",
   "execution_count": null,
   "metadata": {},
   "outputs": [],
   "source": [
    "def find_longest_path(forest, use_slopes = True):\n",
    "    start = (0, forest[0].index('.'))\n",
    "    end = (len(forest) - 1, forest[len(forest) - 1].index('.'))\n",
    "    graph = build_graph(start, end, forest, use_slopes)\n",
    "    \n",
    "    return dfs(graph, start)"
   ]
  },
  {
   "cell_type": "code",
   "execution_count": null,
   "metadata": {},
   "outputs": [],
   "source": [
    "# Part 1\n",
    "find_longest_path(data)"
   ]
  },
  {
   "cell_type": "code",
   "execution_count": null,
   "metadata": {},
   "outputs": [],
   "source": [
    "# Part 2\n",
    "find_longest_path(data, False)"
   ]
  }
 ],
 "metadata": {
  "kernelspec": {
   "display_name": "Python 3",
   "language": "python",
   "name": "python3"
  },
  "language_info": {
   "codemirror_mode": {
    "name": "ipython",
    "version": 3
   },
   "file_extension": ".py",
   "mimetype": "text/x-python",
   "name": "python",
   "nbconvert_exporter": "python",
   "pygments_lexer": "ipython3",
   "version": "3.9.17"
  }
 },
 "nbformat": 4,
 "nbformat_minor": 2
}
