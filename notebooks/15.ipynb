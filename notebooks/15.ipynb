{
 "cells": [
  {
   "cell_type": "code",
   "execution_count": null,
   "metadata": {},
   "outputs": [],
   "source": [
    "import re"
   ]
  },
  {
   "cell_type": "code",
   "execution_count": null,
   "metadata": {},
   "outputs": [],
   "source": [
    "with open('../inputs/15.txt') as f:\n",
    "    data = f.read().replace('\\n', '').split(',')"
   ]
  },
  {
   "cell_type": "code",
   "execution_count": null,
   "metadata": {},
   "outputs": [],
   "source": [
    "def hash(string):\n",
    "    value = 0\n",
    "    \n",
    "    for char in string:        \n",
    "        value += ord(char)\n",
    "        value *= 17\n",
    "        value %= 256\n",
    "    \n",
    "    return value"
   ]
  },
  {
   "cell_type": "code",
   "execution_count": null,
   "metadata": {},
   "outputs": [],
   "source": [
    "# Part 1\n",
    "def solve(steps):\n",
    "    total = 0\n",
    "\n",
    "    for step in steps:\n",
    "        total += hash(step)\n",
    "        \n",
    "    return total\n",
    "\n",
    "solve(data)"
   ]
  },
  {
   "cell_type": "code",
   "execution_count": null,
   "metadata": {},
   "outputs": [],
   "source": [
    "# Part 2\n",
    "def assemble_boxes(steps):\n",
    "    boxes = [[] for _ in range(256)]\n",
    "\n",
    "    for step in steps:\n",
    "        label, focal_length_str = re.split('[-=]', step)\n",
    "        box = hash(label)\n",
    "            \n",
    "        if focal_length_str:\n",
    "            focal_length = int(focal_length_str)\n",
    "            \n",
    "            for i, slot in enumerate(boxes[box]):\n",
    "                if label == slot[0]:\n",
    "                    boxes[box][i] = (label, focal_length)\n",
    "                    break\n",
    "            else:\n",
    "                boxes[box].append((label, focal_length))\n",
    "        else:\n",
    "            boxes[box] = list(filter(lambda x: x[0] != label, boxes[box]))\n",
    "            \n",
    "    return boxes\n",
    "\n",
    "def calc_focus_power(boxes):\n",
    "    total = 0\n",
    "       \n",
    "    for i, box in enumerate(boxes):\n",
    "        for j, slot in enumerate(box):\n",
    "            total += (i + 1) * (j + 1) * slot[1]\n",
    "            \n",
    "    return total\n",
    "\n",
    "calc_focus_power(assemble_boxes(data))"
   ]
  }
 ],
 "metadata": {
  "kernelspec": {
   "display_name": "Python 3",
   "language": "python",
   "name": "python3"
  },
  "language_info": {
   "codemirror_mode": {
    "name": "ipython",
    "version": 3
   },
   "file_extension": ".py",
   "mimetype": "text/x-python",
   "name": "python",
   "nbconvert_exporter": "python",
   "pygments_lexer": "ipython3",
   "version": "3.9.17"
  }
 },
 "nbformat": 4,
 "nbformat_minor": 2
}
