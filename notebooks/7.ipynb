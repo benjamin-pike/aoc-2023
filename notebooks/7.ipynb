{
 "cells": [
  {
   "cell_type": "code",
   "execution_count": null,
   "metadata": {},
   "outputs": [],
   "source": [
    "import re"
   ]
  },
  {
   "cell_type": "code",
   "execution_count": null,
   "metadata": {},
   "outputs": [],
   "source": [
    "with open('../inputs/7.txt', 'r') as f:\n",
    "    data = f.read().splitlines()"
   ]
  },
  {
   "cell_type": "code",
   "execution_count": null,
   "metadata": {},
   "outputs": [],
   "source": [
    "def sub_letters(hand, use_jokers = False):\n",
    "    alt_letters = {'T': 'A', 'J': '.' if use_jokers else 'B', 'Q': 'C', 'K': 'D', 'A': 'E'}\n",
    "    return re.sub(r'[TJQKA]', lambda x: alt_letters[x.group()], hand)"
   ]
  },
  {
   "cell_type": "code",
   "execution_count": null,
   "metadata": {},
   "outputs": [],
   "source": [
    "def check(hand, count):\n",
    "    target = count - (5 - len(hand))\n",
    "    \n",
    "    if target == 0:\n",
    "        return True\n",
    "\n",
    "    counter = {}\n",
    "    for char in hand:\n",
    "        if char not in counter:\n",
    "            counter[char] = 0\n",
    "            \n",
    "        counter[char] += 1\n",
    "        \n",
    "        if counter[char] == target:\n",
    "            return True\n",
    "        \n",
    "    return False"
   ]
  },
  {
   "cell_type": "code",
   "execution_count": null,
   "metadata": {},
   "outputs": [],
   "source": [
    "def score(hand, use_jokers):\n",
    "    h = hand.replace('J', '') if use_jokers else hand\n",
    "\n",
    "    if check(h, 5): return 6 # Five of a kind\n",
    "    if check(h, 4): return 5 # Four of a kind\n",
    "    if check(h, 3):\n",
    "        if len(set(h)) == 2: return 4 # Full house\n",
    "        return 3 # Three of a kind\n",
    "    if check(h, 2):\n",
    "        if len(set(h)) == 3: return 2 # Two pair\n",
    "        return 1 # One pair\n",
    "    \n",
    "    return 0 # High card"
   ]
  },
  {
   "cell_type": "code",
   "execution_count": null,
   "metadata": {},
   "outputs": [],
   "source": [
    "def calc_strength(hand, use_jokers):\n",
    "    return (score(hand, use_jokers), list(sub_letters(hand, use_jokers)))"
   ]
  },
  {
   "cell_type": "code",
   "execution_count": null,
   "metadata": {},
   "outputs": [],
   "source": [
    "def calc_winnings(lines, use_jokers = False):\n",
    "    plays = [[hand, int(bid)] for hand, bid in (line.split() for line in lines)]\n",
    "    \n",
    "    plays.sort(key=lambda play: calc_strength(play[0], use_jokers))\n",
    "\n",
    "    total = 0\n",
    "    for i, (_, bid) in enumerate(plays):\n",
    "        total += (i + 1) * bid\n",
    "        \n",
    "    return total"
   ]
  },
  {
   "cell_type": "code",
   "execution_count": null,
   "metadata": {},
   "outputs": [],
   "source": [
    "# Part 1\n",
    "calc_winnings(data)"
   ]
  },
  {
   "cell_type": "code",
   "execution_count": null,
   "metadata": {},
   "outputs": [],
   "source": [
    "# Part 2\n",
    "calc_winnings(data, True)"
   ]
  }
 ],
 "metadata": {
  "kernelspec": {
   "display_name": "Python 3",
   "language": "python",
   "name": "python3"
  },
  "language_info": {
   "codemirror_mode": {
    "name": "ipython",
    "version": 3
   },
   "file_extension": ".py",
   "mimetype": "text/x-python",
   "name": "python",
   "nbconvert_exporter": "python",
   "pygments_lexer": "ipython3",
   "version": "3.9.17"
  }
 },
 "nbformat": 4,
 "nbformat_minor": 2
}
