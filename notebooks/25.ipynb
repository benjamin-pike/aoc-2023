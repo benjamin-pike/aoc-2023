{
 "cells": [
  {
   "cell_type": "code",
   "execution_count": null,
   "metadata": {},
   "outputs": [],
   "source": [
    "import numpy as np"
   ]
  },
  {
   "cell_type": "code",
   "execution_count": null,
   "metadata": {},
   "outputs": [],
   "source": [
    "with open('../inputs/25.txt') as f:\n",
    "    data = f.read().splitlines()"
   ]
  },
  {
   "cell_type": "code",
   "execution_count": null,
   "metadata": {},
   "outputs": [],
   "source": [
    "def parse(lines):\n",
    "    graph = {}\n",
    "    \n",
    "    for line in lines:\n",
    "        node, connected = line.split(': ')\n",
    "        \n",
    "        for connected_node in connected.split():\n",
    "            if node not in graph:\n",
    "                graph[node] = []\n",
    "                \n",
    "            if connected_node not in graph:\n",
    "                graph[connected_node] = []\n",
    "                \n",
    "            graph[node].append(connected_node)\n",
    "            graph[connected_node].append(node)\n",
    "            \n",
    "    return graph"
   ]
  },
  {
   "cell_type": "code",
   "execution_count": null,
   "metadata": {},
   "outputs": [],
   "source": [
    "def bisect(graph):\n",
    "    n = len(graph)\n",
    "    m_degree = np.zeros((n, n))\n",
    "    m_adjacency = np.zeros((n, n))\n",
    "    \n",
    "    indices = {k: i for i, k in enumerate(graph.keys())}\n",
    "    \n",
    "    for node, i in indices.items():\n",
    "        m_degree[i][i] = len(graph[node])\n",
    "\n",
    "        for connected_node in graph[node]:\n",
    "            j = indices[connected_node]\n",
    "            m_adjacency[i][j] = 1\n",
    "            \n",
    "    m_laplacian = m_degree - m_adjacency\n",
    "    *_, Vt = np.linalg.svd(m_laplacian)\n",
    "    fiedler = Vt[-2]\n",
    "    g1 = np.sum(fiedler > 0)\n",
    "\n",
    "    return (g1, n - g1)"
   ]
  },
  {
   "cell_type": "code",
   "execution_count": null,
   "metadata": {},
   "outputs": [],
   "source": [
    "def calc(graph):\n",
    "    g1, g2 = bisect(graph)\n",
    "    \n",
    "    return g1 * g2"
   ]
  },
  {
   "cell_type": "code",
   "execution_count": null,
   "metadata": {},
   "outputs": [],
   "source": [
    "# Part 1\n",
    "calc(parse(data))"
   ]
  }
 ],
 "metadata": {
  "kernelspec": {
   "display_name": "Python 3",
   "language": "python",
   "name": "python3"
  },
  "language_info": {
   "codemirror_mode": {
    "name": "ipython",
    "version": 3
   },
   "file_extension": ".py",
   "mimetype": "text/x-python",
   "name": "python",
   "nbconvert_exporter": "python",
   "pygments_lexer": "ipython3",
   "version": "3.9.17"
  }
 },
 "nbformat": 4,
 "nbformat_minor": 2
}
