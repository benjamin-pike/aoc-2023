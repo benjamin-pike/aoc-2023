{
 "cells": [
  {
   "cell_type": "code",
   "execution_count": null,
   "metadata": {},
   "outputs": [],
   "source": [
    "from heapq import heappush, heappop"
   ]
  },
  {
   "cell_type": "code",
   "execution_count": null,
   "metadata": {},
   "outputs": [],
   "source": [
    "with open('../inputs/17.txt') as f:\n",
    "    data = f.read().splitlines()"
   ]
  },
  {
   "cell_type": "code",
   "execution_count": null,
   "metadata": {},
   "outputs": [],
   "source": [
    "def dijkstra(data, min_steps, max_steps):\n",
    "    queue = [(0, (0, 0), None, 0)]\n",
    "    seen = set()\n",
    "\n",
    "    directions = [(0, 1), (-1, 0), (1, 0) , (0, -1)]\n",
    "    \n",
    "    n = len(data)\n",
    "    m = len(data[0])\n",
    "\n",
    "    while queue:\n",
    "        loss, coord, direction, steps = heappop(queue)\n",
    "        \n",
    "        if coord == (n - 1, m - 1) and steps >= min_steps:\n",
    "            return loss\n",
    "\n",
    "        if ((coord, direction, steps)) in seen:\n",
    "            continue\n",
    "        seen.add((coord, direction, steps))\n",
    "    \n",
    "        for dy, dx in directions:\n",
    "            if direction != None and steps < min_steps and (dy, dx) != direction:\n",
    "                continue\n",
    "            \n",
    "            if steps >= max_steps and (dy, dx) == direction:\n",
    "                continue\n",
    "            \n",
    "            if direction and (dy * direction[0] == -1 or dx * direction[1] == -1):\n",
    "                continue\n",
    "            \n",
    "            y = coord[0] + dy\n",
    "            x = coord[1] + dx\n",
    "            \n",
    "            s = steps + 1 if (dy, dx) == direction else 1\n",
    "            \n",
    "            if not (0 <= y < n) or not (0 <= x < m):\n",
    "                continue\n",
    "            \n",
    "            heappush(queue, (loss + int(data[y][x]), (y, x), (dy, dx), s))"
   ]
  },
  {
   "cell_type": "code",
   "execution_count": null,
   "metadata": {},
   "outputs": [],
   "source": [
    "# Part 1\n",
    "dijkstra(data, 0, 3)"
   ]
  },
  {
   "cell_type": "code",
   "execution_count": null,
   "metadata": {},
   "outputs": [],
   "source": [
    "# Part 2\n",
    "dijkstra(data, 4, 10)"
   ]
  }
 ],
 "metadata": {
  "kernelspec": {
   "display_name": "Python 3",
   "language": "python",
   "name": "python3"
  },
  "language_info": {
   "codemirror_mode": {
    "name": "ipython",
    "version": 3
   },
   "file_extension": ".py",
   "mimetype": "text/x-python",
   "name": "python",
   "nbconvert_exporter": "python",
   "pygments_lexer": "ipython3",
   "version": "3.9.17"
  }
 },
 "nbformat": 4,
 "nbformat_minor": 2
}
