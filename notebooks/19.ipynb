{
 "cells": [
  {
   "cell_type": "code",
   "execution_count": null,
   "metadata": {},
   "outputs": [],
   "source": [
    "with open('../inputs/19.txt') as f:\n",
    "    workflows_data, ratings_data = [_.splitlines() for _ in f.read().split('\\n\\n')]"
   ]
  },
  {
   "cell_type": "code",
   "execution_count": null,
   "metadata": {},
   "outputs": [],
   "source": [
    "def parse_ratings(ratings):\n",
    "    return [{k: int(v) for k, v in (rating.split('=') for rating in entry[1:-1].split(','))} for entry in ratings]"
   ]
  },
  {
   "cell_type": "code",
   "execution_count": null,
   "metadata": {},
   "outputs": [],
   "source": [
    "def parse_workflows(workflows):\n",
    "    flow_map = {}\n",
    "    \n",
    "    for workflow in workflows:\n",
    "        key, flow_str = workflow[:-1].split('{')\n",
    "        *checks, fallback = flow_str.split(',')\n",
    "        \n",
    "        flow = []\n",
    "        for check in checks:\n",
    "            condition, effect = check.split(':')\n",
    "            part, operator, *val_str = condition\n",
    "            \n",
    "            flow.append((part, operator, int(''.join(val_str)), effect))\n",
    "        \n",
    "        flow_map[key] = (flow, fallback)\n",
    "        \n",
    "    return flow_map"
   ]
  },
  {
   "cell_type": "code",
   "execution_count": null,
   "metadata": {},
   "outputs": [],
   "source": [
    "# Part 1\n",
    "def check_discrete(ratings, flow_key, flows_map, total):\n",
    "    flow, next = flows_map[flow_key]\n",
    "\n",
    "    for part, operator, val, effect in flow:\n",
    "        rating = ratings[part]\n",
    "        \n",
    "        passes = (operator == '>' and rating > val) or (operator == '<' and rating < val)\n",
    "        \n",
    "        if passes:\n",
    "            next = effect\n",
    "            break\n",
    "    \n",
    "    if next == 'A':\n",
    "        return total + sum(ratings.values())\n",
    "    elif next == 'R':\n",
    "        return total\n",
    "    else:\n",
    "        return total + check_discrete(ratings, next, flows_map, total)\n",
    "    \n",
    "def solve_discrete(workflows_data, ratings_data):\n",
    "    flows_map = parse_workflows(workflows_data)\n",
    "    ratings_arr = parse_ratings(ratings_data)\n",
    "    \n",
    "    total = 0\n",
    "    for ratings in ratings_arr:\n",
    "        total += check_discrete(ratings, 'in', flows_map, 0)\n",
    "        \n",
    "    return total\n",
    "\n",
    "solve_discrete(workflows_data, ratings_data)"
   ]
  },
  {
   "cell_type": "code",
   "execution_count": null,
   "metadata": {},
   "outputs": [],
   "source": [
    "# Part 2\n",
    "def check_range(ranges, key, flows_map, combinations):\n",
    "    if key == 'R':\n",
    "        return combinations\n",
    "    \n",
    "    if key == 'A':\n",
    "        c = 1\n",
    "        for part in 'xmas':\n",
    "            c *= ranges[part][1] - ranges[part][0] + 1\n",
    "        return c\n",
    "\n",
    "    flow, fallback = flows_map[key]\n",
    "    c = 0\n",
    "    for part, operator, val, effect in flow:\n",
    "        lower, upper = ranges[part]\n",
    "\n",
    "        c += check_range({\n",
    "            **ranges, \n",
    "            part: (\n",
    "                 val + 1 if operator == '>' else lower,\n",
    "                 val - 1 if operator == '<' else upper\n",
    "            )\n",
    "        }, effect, flows_map, combinations)\n",
    "\n",
    "        ranges[part] = (\n",
    "            val if operator == '<' else lower,\n",
    "            val if operator == '>' else upper    \n",
    "        )\n",
    "\n",
    "    return c + check_range(ranges, fallback, flows_map, combinations)\n",
    "            \n",
    "    \n",
    "def solve_range(workflows_data):\n",
    "    flows_map = parse_workflows(workflows_data)\n",
    "    \n",
    "    initial = {\n",
    "        'x': (1, 4000),\n",
    "        'm': (1, 4000),\n",
    "        'a': (1, 4000),\n",
    "        's': (1, 4000)\n",
    "    }\n",
    "            \n",
    "    return check_range(initial, 'in', flows_map, 0)\n",
    "\n",
    "solve_range(workflows_data)"
   ]
  }
 ],
 "metadata": {
  "kernelspec": {
   "display_name": "Python 3",
   "language": "python",
   "name": "python3"
  },
  "language_info": {
   "codemirror_mode": {
    "name": "ipython",
    "version": 3
   },
   "file_extension": ".py",
   "mimetype": "text/x-python",
   "name": "python",
   "nbconvert_exporter": "python",
   "pygments_lexer": "ipython3",
   "version": "3.9.17"
  }
 },
 "nbformat": 4,
 "nbformat_minor": 2
}
